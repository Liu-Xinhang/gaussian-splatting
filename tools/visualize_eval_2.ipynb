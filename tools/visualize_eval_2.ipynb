{
 "cells": [
  {
   "cell_type": "code",
   "execution_count": 3,
   "metadata": {},
   "outputs": [],
   "source": [
    "import numpy as np\n",
    "from matplotlib import pyplot as plt\n",
    "from pathlib import Path"
   ]
  },
  {
   "cell_type": "code",
   "execution_count": 81,
   "metadata": {},
   "outputs": [
    {
     "name": "stdout",
     "output_type": "stream",
     "text": [
      "chair\n",
      "0.96\n",
      "0.96\n",
      "drums\n",
      "1.0\n",
      "1.0\n",
      "ficus\n",
      "0.84\n",
      "0.84\n",
      "hotdog\n",
      "1.0\n",
      "1.0\n",
      "lego\n",
      "1.0\n",
      "1.0\n",
      "materials\n",
      "1.0\n",
      "1.0\n",
      "mic\n",
      "0.72\n",
      "0.76\n",
      "ship\n",
      "1.0\n",
      "0.8\n"
     ]
    }
   ],
   "source": [
    "name = [\"chair\",  'drums', \"ficus\", \"hotdog\",\"lego\", \"materials\", \"mic\", \"ship\"]\n",
    "for obj_name in name:\n",
    "\tprint(obj_name)\n",
    "\trotation_thrshold = 5\n",
    "\ttranslation_thrshold = 5\n",
    "\ttotal_files_cm = list(Path(f\"../400_iteration/debug_eluer_data_{obj_name}/\").glob(\"*cm.npy\"))\n",
    "\ttotal_files_cm = sorted(total_files_cm)\n",
    "\tres = []\n",
    "\tfor path in total_files_cm:\n",
    "\t\tcm = np.load(path)\n",
    "\t\tres.append(cm[-1])\n",
    "\tres = np.array(res)\n",
    "\tratio = (res<translation_thrshold).sum() / len(res)\n",
    "\tprint(ratio)\n",
    "\n",
    "\ttotal_files_degree = list(Path(f\"../400_iteration/debug_eluer_data_{obj_name}/\").glob(\"*degree.npy\"))\n",
    "\ttotal_files_degree = sorted(total_files_degree)\n",
    "\tres = []\n",
    "\tfor path in total_files_degree:\n",
    "\t\tdegree = np.load(path)\n",
    "\t\tres.append(degree[-1])\n",
    "\tres = np.array(res)\n",
    "\tratio = (res<rotation_thrshold).sum() / len(res)\n",
    "\tprint(ratio)"
   ]
  },
  {
   "cell_type": "code",
   "execution_count": 77,
   "metadata": {},
   "outputs": [
    {
     "name": "stdout",
     "output_type": "stream",
     "text": [
      "0.8\n"
     ]
    }
   ],
   "source": [
    "obj_name = \"ship\"\n",
    "rotation_thrshold = 0.5\n",
    "translation_thrshold = 1\n",
    "total_files_cm = list(Path(f\"../400_iteration/debug_eluer_data_{obj_name}/\").glob(\"*cm.npy\"))\n",
    "total_files_cm = sorted(total_files_cm)\n",
    "res = []\n",
    "for path in total_files_cm:\n",
    "\tcm = np.load(path)\n",
    "\tres.append(cm[-1])\n",
    "res = np.array(res)\n",
    "correct_translation = res<translation_thrshold\n",
    "\n",
    "total_files_degree = list(Path(f\"../400_iteration/debug_eluer_data_{obj_name}/\").glob(\"*degree.npy\"))\n",
    "total_files_degree = sorted(total_files_degree)\n",
    "res = []\n",
    "for path in total_files_degree:\n",
    "\tdegree = np.load(path)\n",
    "\tres.append(degree[-1])\n",
    "res = np.array(res)\n",
    "correct_rotation = res<rotation_thrshold\n",
    "print(np.bitwise_and(correct_translation, correct_rotation).sum() / len(correct_rotation))"
   ]
  },
  {
   "cell_type": "code",
   "execution_count": null,
   "metadata": {},
   "outputs": [],
   "source": []
  }
 ],
 "metadata": {
  "kernelspec": {
   "display_name": "base",
   "language": "python",
   "name": "python3"
  },
  "language_info": {
   "codemirror_mode": {
    "name": "ipython",
    "version": 3
   },
   "file_extension": ".py",
   "mimetype": "text/x-python",
   "name": "python",
   "nbconvert_exporter": "python",
   "pygments_lexer": "ipython3",
   "version": "3.9.13"
  },
  "orig_nbformat": 4
 },
 "nbformat": 4,
 "nbformat_minor": 2
}
