{
 "cells": [
  {
   "cell_type": "code",
   "execution_count": 2,
   "metadata": {},
   "outputs": [],
   "source": [
    "import numpy as np\n",
    "from matplotlib import pyplot as plt\n",
    "from pathlib import Path\n",
    "import pandas as pd"
   ]
  },
  {
   "cell_type": "code",
   "execution_count": 28,
   "metadata": {},
   "outputs": [],
   "source": [
    "root_dir = \"../200_iteration/constant_then_expon_lr/\"\n",
    "# root_dir = \"../optimizer_schema_origin/constant/\""
   ]
  },
  {
   "cell_type": "code",
   "execution_count": 29,
   "metadata": {},
   "outputs": [
    {
     "data": {
      "text/html": [
       "<div>\n",
       "<style scoped>\n",
       "    .dataframe tbody tr th:only-of-type {\n",
       "        vertical-align: middle;\n",
       "    }\n",
       "\n",
       "    .dataframe tbody tr th {\n",
       "        vertical-align: top;\n",
       "    }\n",
       "\n",
       "    .dataframe thead th {\n",
       "        text-align: right;\n",
       "    }\n",
       "</style>\n",
       "<table border=\"1\" class=\"dataframe\">\n",
       "  <thead>\n",
       "    <tr style=\"text-align: right;\">\n",
       "      <th></th>\n",
       "      <th>0</th>\n",
       "      <th>1</th>\n",
       "      <th>2</th>\n",
       "      <th>3</th>\n",
       "      <th>4</th>\n",
       "      <th>5</th>\n",
       "      <th>6</th>\n",
       "      <th>7</th>\n",
       "    </tr>\n",
       "  </thead>\n",
       "  <tbody>\n",
       "    <tr>\n",
       "      <th>name</th>\n",
       "      <td>chair</td>\n",
       "      <td>drums</td>\n",
       "      <td>ficus</td>\n",
       "      <td>hotdog</td>\n",
       "      <td>lego</td>\n",
       "      <td>materials</td>\n",
       "      <td>mic</td>\n",
       "      <td>ship</td>\n",
       "    </tr>\n",
       "    <tr>\n",
       "      <th>rotation</th>\n",
       "      <td>0.96</td>\n",
       "      <td>0.96</td>\n",
       "      <td>0.96</td>\n",
       "      <td>1.0</td>\n",
       "      <td>1.0</td>\n",
       "      <td>1.0</td>\n",
       "      <td>0.88</td>\n",
       "      <td>0.8</td>\n",
       "    </tr>\n",
       "    <tr>\n",
       "      <th>translation</th>\n",
       "      <td>0.92</td>\n",
       "      <td>0.96</td>\n",
       "      <td>0.92</td>\n",
       "      <td>1.0</td>\n",
       "      <td>1.0</td>\n",
       "      <td>1.0</td>\n",
       "      <td>0.68</td>\n",
       "      <td>1.0</td>\n",
       "    </tr>\n",
       "  </tbody>\n",
       "</table>\n",
       "</div>"
      ],
      "text/plain": [
       "                 0      1      2       3     4          5     6     7\n",
       "name         chair  drums  ficus  hotdog  lego  materials   mic  ship\n",
       "rotation      0.96   0.96   0.96     1.0   1.0        1.0  0.88   0.8\n",
       "translation   0.92   0.96   0.92     1.0   1.0        1.0  0.68   1.0"
      ]
     },
     "execution_count": 29,
     "metadata": {},
     "output_type": "execute_result"
    }
   ],
   "source": [
    "name = [\"chair\",  'drums', \"ficus\", \"hotdog\",\"lego\", \"materials\", \"mic\", \"ship\"]\n",
    "translation_results = []\n",
    "rotation_results = []\n",
    "for obj_name in name:\n",
    "\trotation_thrshold = 5\n",
    "\ttranslation_thrshold = 5\n",
    "\ttotal_files_cm = list(Path(f\"{root_dir}/debug_data_{obj_name}/\").glob(\"*cm.npy\"))\n",
    "\ttotal_files_cm = sorted(total_files_cm)\n",
    "\tres = []\n",
    "\tfor path in total_files_cm:\n",
    "\t\tcm = np.load(path)\n",
    "\t\tres.append(cm[-1])\n",
    "\tres = np.array(res)\n",
    "\tratio = (res<translation_thrshold).sum() / len(res)\n",
    "\ttranslation_results.append(ratio)\n",
    "\n",
    "\ttotal_files_degree = list(Path(f\"{root_dir}/debug_data_{obj_name}/\").glob(\"*degree.npy\"))\n",
    "\ttotal_files_degree = sorted(total_files_degree)\n",
    "\tres = []\n",
    "\tfor path in total_files_degree:\n",
    "\t\tdegree = np.load(path)\n",
    "\t\tres.append(degree[-1])\n",
    "\tres = np.array(res)\n",
    "\tratio = (res<rotation_thrshold).sum() / len(res)\n",
    "\trotation_results.append(ratio)\n",
    "df = pd.DataFrame({\"name\":name, \"rotation\":rotation_results, \"translation\":translation_results})\n",
    "df.T"
   ]
  },
  {
   "cell_type": "code",
   "execution_count": 33,
   "metadata": {},
   "outputs": [],
   "source": []
  },
  {
   "cell_type": "code",
   "execution_count": 55,
   "metadata": {},
   "outputs": [
    {
     "data": {
      "text/html": [
       "<div>\n",
       "<style scoped>\n",
       "    .dataframe tbody tr th:only-of-type {\n",
       "        vertical-align: middle;\n",
       "    }\n",
       "\n",
       "    .dataframe tbody tr th {\n",
       "        vertical-align: top;\n",
       "    }\n",
       "\n",
       "    .dataframe thead th {\n",
       "        text-align: right;\n",
       "    }\n",
       "</style>\n",
       "<table border=\"1\" class=\"dataframe\">\n",
       "  <thead>\n",
       "    <tr style=\"text-align: right;\">\n",
       "      <th></th>\n",
       "      <th>name</th>\n",
       "      <th>res</th>\n",
       "    </tr>\n",
       "  </thead>\n",
       "  <tbody>\n",
       "    <tr>\n",
       "      <th>0</th>\n",
       "      <td>chair</td>\n",
       "      <td>1.00</td>\n",
       "    </tr>\n",
       "    <tr>\n",
       "      <th>1</th>\n",
       "      <td>drums</td>\n",
       "      <td>1.00</td>\n",
       "    </tr>\n",
       "    <tr>\n",
       "      <th>2</th>\n",
       "      <td>ficus</td>\n",
       "      <td>0.88</td>\n",
       "    </tr>\n",
       "    <tr>\n",
       "      <th>3</th>\n",
       "      <td>hotdog</td>\n",
       "      <td>1.00</td>\n",
       "    </tr>\n",
       "    <tr>\n",
       "      <th>4</th>\n",
       "      <td>lego</td>\n",
       "      <td>1.00</td>\n",
       "    </tr>\n",
       "    <tr>\n",
       "      <th>5</th>\n",
       "      <td>materials</td>\n",
       "      <td>0.92</td>\n",
       "    </tr>\n",
       "    <tr>\n",
       "      <th>6</th>\n",
       "      <td>mic</td>\n",
       "      <td>0.36</td>\n",
       "    </tr>\n",
       "    <tr>\n",
       "      <th>7</th>\n",
       "      <td>ship</td>\n",
       "      <td>0.92</td>\n",
       "    </tr>\n",
       "  </tbody>\n",
       "</table>\n",
       "</div>"
      ],
      "text/plain": [
       "        name   res\n",
       "0      chair  1.00\n",
       "1      drums  1.00\n",
       "2      ficus  0.88\n",
       "3     hotdog  1.00\n",
       "4       lego  1.00\n",
       "5  materials  0.92\n",
       "6        mic  0.36\n",
       "7       ship  0.92"
      ]
     },
     "execution_count": 55,
     "metadata": {},
     "output_type": "execute_result"
    }
   ],
   "source": [
    "root_dir = \"../400_iteration/constant_then_expon_lr/\"\n",
    "name = [\"chair\",  'drums', \"ficus\", \"hotdog\",\"lego\", \"materials\", \"mic\", \"ship\"]\n",
    "rotation_thrshold = 0.5\n",
    "translation_thrshold = 1\n",
    "results = []\n",
    "for obj_name in name:\n",
    "\n",
    "\ttotal_files_cm = list(Path(f\"{root_dir}debug_data_{obj_name}/\").glob(\"*cm.npy\"))\n",
    "\ttotal_files_cm = sorted(total_files_cm)\n",
    "\tres = []\n",
    "\tfor path in total_files_cm:\n",
    "\t\tcm = np.load(path)\n",
    "\t\tres.append(cm[-1])\n",
    "\tres = np.array(res)\n",
    "\tcorrect_translation = res<translation_thrshold\n",
    "\n",
    "\ttotal_files_degree = list(Path(f\"{root_dir}/debug_data_{obj_name}/\").glob(\"*degree.npy\"))\n",
    "\ttotal_files_degree = sorted(total_files_degree)\n",
    "\tres = []\n",
    "\tfor path in total_files_degree:\n",
    "\t\tdegree = np.load(path)\n",
    "\t\tres.append(degree[-1])\n",
    "\tres = np.array(res)\n",
    "\tcorrect_rotation = res<rotation_thrshold\n",
    "\tresults.append(np.bitwise_and(correct_translation, correct_rotation).sum() / len(correct_rotation))\n",
    "df = pd.DataFrame({\"name\":name, \"res\":results})\n",
    "df"
   ]
  },
  {
   "cell_type": "code",
   "execution_count": 56,
   "metadata": {},
   "outputs": [
    {
     "name": "stderr",
     "output_type": "stream",
     "text": [
      "/tmp/ipykernel_3143460/1408673503.py:1: FutureWarning: Dropping of nuisance columns in DataFrame reductions (with 'numeric_only=None') is deprecated; in a future version this will raise TypeError.  Select only valid columns before calling the reduction.\n",
      "  df.mean(0)\n"
     ]
    },
    {
     "data": {
      "text/plain": [
       "res    0.885\n",
       "dtype: float64"
      ]
     },
     "execution_count": 56,
     "metadata": {},
     "output_type": "execute_result"
    }
   ],
   "source": [
    "df.mean(0)"
   ]
  },
  {
   "cell_type": "code",
   "execution_count": 61,
   "metadata": {},
   "outputs": [],
   "source": [
    "root_dir = \"../400_iteration/constant_then_expon_lr/\""
   ]
  },
  {
   "cell_type": "code",
   "execution_count": 69,
   "metadata": {},
   "outputs": [
    {
     "name": "stdout",
     "output_type": "stream",
     "text": [
      "[0.665, 0.665, 0.885, 0.925, 0.96]\n",
      "[0.0, 0.46, 0.885, 0.8899999999999999, 0.95]\n"
     ]
    }
   ],
   "source": [
    "name = [\"chair\",  'drums', \"ficus\", \"hotdog\",\"lego\", \"materials\", \"mic\", \"ship\"]\n",
    "\n",
    "total_translation_res = []\n",
    "total_rotation_res = []\n",
    "\n",
    "for i in [0.001, 0.01, 0.1, 1, 5]:\n",
    "\ttranslation_results = []\n",
    "\trotation_results = []\n",
    "\trotation_thrshold = i\n",
    "\ttranslation_thrshold = i\n",
    "\tfor obj_name in name:\n",
    "\t\ttotal_files_cm = list(Path(f\"{root_dir}/debug_data_{obj_name}/\").glob(\"*cm.npy\"))\n",
    "\t\ttotal_files_cm = sorted(total_files_cm)\n",
    "\t\tres = []\n",
    "\t\tfor path in total_files_cm:\n",
    "\t\t\tcm = np.load(path)\n",
    "\t\t\tres.append(cm[-1])\n",
    "\t\tres = np.array(res)\n",
    "\t\tratio = (res<translation_thrshold).sum() / len(res)\n",
    "\t\ttranslation_results.append(ratio)\n",
    "\n",
    "\t\ttotal_files_degree = list(Path(f\"{root_dir}/debug_data_{obj_name}/\").glob(\"*degree.npy\"))\n",
    "\t\ttotal_files_degree = sorted(total_files_degree)\n",
    "\t\tres = []\n",
    "\t\tfor path in total_files_degree:\n",
    "\t\t\tdegree = np.load(path)\n",
    "\t\t\tres.append(degree[-1])\n",
    "\t\tres = np.array(res)\n",
    "\t\tratio = (res<rotation_thrshold).sum() / len(res)\n",
    "\t\trotation_results.append(ratio)\n",
    "\tmean_rotation = np.mean(rotation_results)\n",
    "\tmean_translation = np.mean(translation_results)\n",
    "\ttotal_rotation_res.append(mean_rotation)\n",
    "\ttotal_translation_res.append(mean_translation)\n",
    "print(total_rotation_res)\n",
    "print(total_translation_res)"
   ]
  },
  {
   "cell_type": "code",
   "execution_count": 74,
   "metadata": {},
   "outputs": [
    {
     "data": {
      "text/plain": [
       "([<matplotlib.axis.XTick at 0x7f3fd0512880>,\n",
       "  <matplotlib.axis.XTick at 0x7f3fd05127c0>,\n",
       "  <matplotlib.axis.XTick at 0x7f3fd0571ee0>,\n",
       "  <matplotlib.axis.XTick at 0x7f3fd04c9fd0>,\n",
       "  <matplotlib.axis.XTick at 0x7f3fd04d3ac0>],\n",
       " [Text(0, 0, '0.001'),\n",
       "  Text(1, 0, '0.01'),\n",
       "  Text(2, 0, '0.1'),\n",
       "  Text(3, 0, '1'),\n",
       "  Text(4, 0, '5')])"
      ]
     },
     "execution_count": 74,
     "metadata": {},
     "output_type": "execute_result"
    },
    {
     "data": {
      "image/png": "[encoded data removed]",
      "text/plain": [
       "<Figure size 640x480 with 1 Axes>"
      ]
     },
     "metadata": {},
     "output_type": "display_data"
    }
   ],
   "source": [
    "plt.plot([0.001, 0.01, 0.1, 1, 5], total_rotation_res, label=\"rotation(°)\")\n",
    "plt.plot([0.001, 0.01, 0.1, 1, 5], total_translation_res, label=\"translation(0.01unit)\")\n",
    "plt.legend()\n",
    "plt.xlabel(\"threshold\")\n",
    "plt.ylabel(\"accuracy\")\n",
    "plt.xticks([0, 1, 2, 3, 4], [0.001, 0.01, 0.1, 1, 5])"
   ]
  },
  {
   "cell_type": "code",
   "execution_count": 99,
   "metadata": {},
   "outputs": [
    {
     "data": {
      "text/plain": [
       "([<matplotlib.axis.XTick at 0x7f3fcfb580a0>,\n",
       "  <matplotlib.axis.XTick at 0x7f3fcfb58070>,\n",
       "  <matplotlib.axis.XTick at 0x7f3fcfbb6850>,\n",
       "  <matplotlib.axis.XTick at 0x7f3fcfb11a90>,\n",
       "  <matplotlib.axis.XTick at 0x7f3fcfb16580>,\n",
       "  <matplotlib.axis.XTick at 0x7f3fcfb16cd0>,\n",
       "  <matplotlib.axis.XTick at 0x7f3fcfb11640>,\n",
       "  <matplotlib.axis.XTick at 0x7f3fcfb20730>,\n",
       "  <matplotlib.axis.XTick at 0x7f3fcfb27220>],\n",
       " [Text(0, 0, '0'),\n",
       "  Text(5, 0, '50'),\n",
       "  Text(10, 0, '100'),\n",
       "  Text(15, 0, '150'),\n",
       "  Text(20, 0, '200'),\n",
       "  Text(25, 0, '250'),\n",
       "  Text(30, 0, '300'),\n",
       "  Text(35, 0, '350'),\n",
       "  Text(40, 0, '400')])"
      ]
     },
     "execution_count": 99,
     "metadata": {},
     "output_type": "execute_result"
    },
    {
     "data": {
      "image/png": "[encoded data removed]",
      "text/plain": [
       "<Figure size 640x480 with 1 Axes>"
      ]
     },
     "metadata": {},
     "output_type": "display_data"
    }
   ],
   "source": [
    "import random\n",
    "root_dir = Path(\"../400_iteration/constant/\")\n",
    "total_files = root_dir.rglob(\"*cm.npy\")\n",
    "total_files = sorted(total_files)\n",
    "\n",
    "cm_path = random.choice(total_files)\n",
    "rt_path = str(cm_path).replace(\"cm.npy\", \"degree.npy\")\n",
    "cm = np.load(cm_path)\n",
    "rt = np.load(rt_path)\n",
    "plt.plot(cm, label=\"translation(0.01unit)\")\n",
    "plt.plot(rt, label=\"rotation(°)\")\n",
    "plt.legend()\n",
    "plt.xlabel(\"iteration\")\n",
    "plt.ylabel(\"error\")\n",
    "plt.xticks(np.arange(0, 41, 5), np.arange(0, 41, 5)* 10)"
   ]
  },
  {
   "cell_type": "code",
   "execution_count": 11,
   "metadata": {},
   "outputs": [
    {
     "name": "stdout",
     "output_type": "stream",
     "text": [
      "[0.45706840363143547, 0.5319158739140186, 0.6792533110681248]\n",
      "[0.9147467525981483, 0.8260910862300079, 1.6609724599429683]\n"
     ]
    },
    {
     "data": {
      "text/html": [
       "<div>\n",
       "<style scoped>\n",
       "    .dataframe tbody tr th:only-of-type {\n",
       "        vertical-align: middle;\n",
       "    }\n",
       "\n",
       "    .dataframe tbody tr th {\n",
       "        vertical-align: top;\n",
       "    }\n",
       "\n",
       "    .dataframe thead th {\n",
       "        text-align: right;\n",
       "    }\n",
       "</style>\n",
       "<table border=\"1\" class=\"dataframe\">\n",
       "  <thead>\n",
       "    <tr style=\"text-align: right;\">\n",
       "      <th></th>\n",
       "      <th>0</th>\n",
       "      <th>1</th>\n",
       "      <th>2</th>\n",
       "    </tr>\n",
       "  </thead>\n",
       "  <tbody>\n",
       "    <tr>\n",
       "      <th>category</th>\n",
       "      <td>constant</td>\n",
       "      <td>multi_step</td>\n",
       "      <td>constant_then_expon_lr</td>\n",
       "    </tr>\n",
       "    <tr>\n",
       "      <th>rot</th>\n",
       "      <td>0.457068</td>\n",
       "      <td>0.531916</td>\n",
       "      <td>0.679253</td>\n",
       "    </tr>\n",
       "    <tr>\n",
       "      <th>trans</th>\n",
       "      <td>0.914747</td>\n",
       "      <td>0.826091</td>\n",
       "      <td>1.660972</td>\n",
       "    </tr>\n",
       "  </tbody>\n",
       "</table>\n",
       "</div>"
      ],
      "text/plain": [
       "                 0           1                       2\n",
       "category  constant  multi_step  constant_then_expon_lr\n",
       "rot       0.457068    0.531916                0.679253\n",
       "trans     0.914747    0.826091                1.660972"
      ]
     },
     "execution_count": 11,
     "metadata": {},
     "output_type": "execute_result"
    }
   ],
   "source": [
    "name = [\"chair\",  'drums', \"ficus\", \"hotdog\",\"lego\", \"materials\", \"mic\", \"ship\"]\n",
    "\n",
    "total_translation_res = []\n",
    "total_rotation_res = []\n",
    "\n",
    "_root_dir = \"400_iteration\"\n",
    "category = [\"constant\", \"multi_step\", \"constant_then_expon_lr\"]\n",
    "for i in [\"constant\", \"multi_step\", \"constant_then_expon_lr\"]:\n",
    "\troot_dir = f\"../{_root_dir}/{i}\"\n",
    "\ttranslation_results = []\n",
    "\trotation_results = []\n",
    "\tfor obj_name in name:\n",
    "\t\ttotal_files_cm = list(Path(f\"{root_dir}/debug_data_{obj_name}/\").glob(\"*cm.npy\"))\n",
    "\t\ttotal_files_cm = sorted(total_files_cm)\n",
    "\t\tres = []\n",
    "\t\tfor path in total_files_cm:\n",
    "\t\t\tcm = np.load(path)\n",
    "\t\t\tres.append(cm[-1])\n",
    "\t\tres = np.array(res)\n",
    "\t\ttranslation_results.append(res.mean())\n",
    "\n",
    "\t\ttotal_files_degree = list(Path(f\"{root_dir}/debug_data_{obj_name}/\").glob(\"*degree.npy\"))\n",
    "\t\ttotal_files_degree = sorted(total_files_degree)\n",
    "\t\tres = []\n",
    "\t\tfor path in total_files_degree:\n",
    "\t\t\tdegree = np.load(path)\n",
    "\t\t\tres.append(degree[-1])\n",
    "\t\tres = np.array(res)\n",
    "\t\trotation_results.append(res.mean())\n",
    "\tmean_rotation = np.mean(rotation_results)\n",
    "\tmean_translation = np.mean(translation_results)\n",
    "\ttotal_rotation_res.append(mean_rotation)\n",
    "\ttotal_translation_res.append(mean_translation)\n",
    "print(total_rotation_res)\n",
    "print(total_translation_res)\n",
    "df = pd.DataFrame({\"category\":category, \"rot\":total_rotation_res, \"trans\": total_translation_res})\n",
    "df.T"
   ]
  },
  {
   "cell_type": "code",
   "execution_count": null,
   "metadata": {},
   "outputs": [],
   "source": []
  }
 ],
 "metadata": {
  "kernelspec": {
   "display_name": "base",
   "language": "python",
   "name": "python3"
  },
  "language_info": {
   "codemirror_mode": {
    "name": "ipython",
    "version": 3
   },
   "file_extension": ".py",
   "mimetype": "text/x-python",
   "name": "python",
   "nbconvert_exporter": "python",
   "pygments_lexer": "ipython3",
   "version": "3.9.13"
  },
  "orig_nbformat": 4
 },
 "nbformat": 4,
 "nbformat_minor": 2
}
